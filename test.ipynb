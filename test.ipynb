{
 "cells": [
  {
   "cell_type": "code",
   "execution_count": 23,
   "metadata": {},
   "outputs": [],
   "source": [
    "from dotenv import load_dotenv\n",
    "import os\n",
    "load_dotenv()\n",
    "from openai import OpenAI"
   ]
  },
  {
   "cell_type": "code",
   "execution_count": 24,
   "metadata": {},
   "outputs": [],
   "source": [
    "client = OpenAI(\n",
    "            api_key=os.getenv(\"OpenAI_Key\"),\n",
    "        )\n",
    "model_name = os.getenv(\"ModelName\")"
   ]
  },
  {
   "cell_type": "code",
   "execution_count": 25,
   "metadata": {},
   "outputs": [],
   "source": [
    "def get_chatbot_response(client,model_name,messages,temperature=0):\n",
    "    input_messages = []\n",
    "    for message in messages:\n",
    "        input_messages.append({\"role\": message[\"role\"], \"content\": message[\"content\"]})\n",
    "\n",
    "    response = client.chat.completions.create(\n",
    "        model=model_name,\n",
    "        messages=input_messages,\n",
    "        temperature=temperature,\n",
    "        top_p=0.8,\n",
    "        max_tokens=2000,\n",
    "    ).choices[0].message.content\n",
    "    \n",
    "    return response"
   ]
  },
  {
   "cell_type": "code",
   "execution_count": 26,
   "metadata": {},
   "outputs": [
    {
     "name": "stdout",
     "output_type": "stream",
     "text": [
      "```json\n",
      "{\n",
      "    \"chainofthought\": \"The log message indicates that a new dynamic member with an unknown member ID has joined a Kafka consumer group. The system has created a new member ID for this member and added it to the group. This is a normal operation in Kafka when a new consumer joins a group.\",\n",
      "    \"message\": \"Analyze the log message and provide a summary, classification, and potential issues or fixes.\",\n",
      "    \"classification\": \"INFO\",\n",
      "    \"summary\": \"A new dynamic member with an unknown ID has joined the Kafka consumer group 'log-consumer-group'. A new member ID was created and added to the group.\",\n",
      "    \"anomalies_or_issues\": \"No anomalies or critical issues detected. This is a standard operation.\",\n",
      "    \"potential_fixes_or_actions\": \"No action needed as this is a normal process.\",\n",
      "    \"anomaly_tracking\": \"No anomaly detected.\"\n",
      "}\n",
      "```\n"
     ]
    }
   ],
   "source": [
    "system_prompt = \"\"\"\n",
    "You are an AI assistant specialized in log analysis. Your job is to:\n",
    "        1. Classify the log level (INFO, WARNING, ERROR, DEBUG).\n",
    "        2. Summarize the log message.\n",
    "        3. Identify anomalies or critical issues in the log.\n",
    "        4. Suggest potential fixes or actions if an issue is detected.\n",
    "        5. Track the Anamoaly and report it.\n",
    "        {\n",
    "            \"chainofthought\":\"Think over the log message and provide the best possible solution\",\n",
    "            \"message\": \"Analyze the log message and provide a summary, classification, and potential issues or fixes.\",\n",
    "        }\n",
    "        make sure to provide a json structure with the above keys and values.\n",
    "\"\"\"\n",
    "msg = \"\"\" [2025-01-26 16:49:25,078] INFO [GroupCoordinator 0]: Dynamic Member with unknown member id joins group log-consumer-group in Empty state. Created a new member id kafka-python-2.0.2-00970e35-142a-4d7a-8354-8835ac58295a for this member and add to the group. (kafka.coordinator.group.GroupCoordinator)\"\"\"\n",
    "messages = [{'role':'system','content':system_prompt}]\n",
    "messages.append({'role':'user','content':msg})\n",
    "response = get_chatbot_response(client,model_name,messages)\n",
    "\n",
    "print(response)"
   ]
  },
  {
   "cell_type": "code",
   "execution_count": 29,
   "metadata": {},
   "outputs": [],
   "source": [
    "msg = \"\"\" 16.180.70.237 - - [26/Jan/2025:18:05:03 ] \"GET /wheelsets HTTP/1.0\" 200 2838 \"http://bestcyclingreviews.com/top_online_shops\" \"Mozilla/5.0 (iPad; CPU OS 6_0 like Mac OS X)\" [SERVICE: auth-service | LEVEL: WARNING]\n",
    "Error extracting JSON from output: local variable 'analysis' referenced before assignment\"\"\"\n",
    "\n",
    "def analyze_log_with_openai(log_message):\n",
    "    try:\n",
    "        # System prompt for OpenAI analysis\n",
    "        system_prompt = \"\"\"\n",
    "        You are an AI assistant specialized in log analysis. Your job is to:\n",
    "        1. Classify the log level (INFO, WARNING, ERROR, DEBUG).\n",
    "        2. Summarize the log message.\n",
    "        3. Identify anomalies or critical issues in the log.\n",
    "        4. Suggest potential fixes or actions if an issue is detected.\n",
    "        5. Track the Anamoaly and report it.\n",
    "        {\n",
    "            \"chainofthought\":\"Think over the log message and provide the best possible solution\",\n",
    "            \"message\": \"Analyze the log message and provide a summary, classification, and potential issues or fixes.\",\n",
    "        }\n",
    "        make sure to provide a json structure with the above keys and values.\n",
    "        \"\"\"\n",
    "        messages = [{'role':'system','content':system_prompt}]\n",
    "        messages.append({'role':'user','content':log_message})\n",
    "        response = get_chatbot_response(client,model_name,messages)\n",
    "        return response\n",
    "    except Exception as e:\n",
    "        return f\"Error analyzing log with OpenAI: {e}\""
   ]
  },
  {
   "cell_type": "code",
   "execution_count": 32,
   "metadata": {},
   "outputs": [],
   "source": [
    "def extract_json_from_output(chatbot_output):\n",
    "    import re\n",
    "    import json\n",
    "    # Enhanced regex to match `json` or `write` after backticks\n",
    "    json_match = re.search(r'```(?:json|write)\\n(.*?)\\n```', chatbot_output, re.DOTALL)\n",
    "\n",
    "    if json_match:\n",
    "        json_string = json_match.group(1)  # Extract JSON content\n",
    "        try:\n",
    "            json_data = json.loads(json_string)  # Convert JSON string to Python dictionary\n",
    "            return json_string\n",
    "        except json.JSONDecodeError as e:\n",
    "            return {\"error\": f\"Failed to decode JSON: {e}\"}\n",
    "    else:\n",
    "        return {\"error\": \"No JSON found in the input.\"}"
   ]
  },
  {
   "cell_type": "code",
   "execution_count": 33,
   "metadata": {},
   "outputs": [
    {
     "name": "stdout",
     "output_type": "stream",
     "text": [
      "{\n",
      "    \"chainofthought\": \"The log message indicates that a new dynamic member with an unknown member ID has joined a Kafka consumer group. The system has created a new member ID for this member and added it to the group.\",\n",
      "    \"message\": \"Analyze the log message and provide a summary, classification, and potential issues or fixes.\",\n",
      "    \"classification\": \"INFO\",\n",
      "    \"summary\": \"A new dynamic member with an unknown ID has joined the Kafka consumer group 'log-consumer-group'. A new member ID was created and added to the group.\",\n",
      "    \"anomalies_or_issues\": \"No anomalies or critical issues detected. This is a standard informational log indicating normal operation.\",\n",
      "    \"potential_fixes_or_actions\": \"No action required as this is an informational message indicating normal behavior.\",\n",
      "    \"anomaly_tracking\": \"No anomaly detected in this log entry.\"\n",
      "}\n"
     ]
    }
   ],
   "source": [
    "a = analyze_log_with_openai(msg)\n",
    "out = extract_json_from_output(a)\n",
    "print(out)"
   ]
  },
  {
   "cell_type": "code",
   "execution_count": 35,
   "metadata": {},
   "outputs": [],
   "source": [
    "import pymongo\n",
    "from datetime import datetime"
   ]
  },
  {
   "cell_type": "code",
   "execution_count": 38,
   "metadata": {},
   "outputs": [],
   "source": [
    "def analyze_log_with_openai(client,model_name,log_message):\n",
    "    try:\n",
    "        system_prompt = \"\"\"\n",
    "        You are an AI assistant specialized in log analysis. Your job is to:\n",
    "        1. Classify the log level (INFO, WARNING, ERROR, DEBUG).\n",
    "        2. Summarize the log message.\n",
    "        3. Identify anomalies or critical issues in the log.\n",
    "        4. Suggest potential fixes or actions if an issue is detected.\n",
    "        5. Track the Anamoaly and report it.\n",
    "        {\n",
    "            \"chainofthought\":\"Think over the log message and provide the best possible solution\",\n",
    "            \"message\": \"Analyze the log message and provide a summary, classification, and potential issues or fixes.\",\n",
    "        }\n",
    "        make sure to provide a json structure with the above keys and values.\n",
    "        \"\"\"\n",
    "        messages = [{'role':'system','content':system_prompt}]\n",
    "        messages.append({'role':'user','content':log_message})\n",
    "        print(\"messages\",messages)\n",
    "        response = get_chatbot_response(client,model_name,messages)\n",
    "        return response\n",
    "    except Exception as e:\n",
    "        return f\"Error analyzing log with OpenAI: {e}\"\n",
    "    \n",
    "def get_chatbot_response(client,model_name,messages,temperature=0):\n",
    "    input_messages = []\n",
    "    for message in messages:\n",
    "        input_messages.append({\"role\": message[\"role\"], \"content\": message[\"content\"]})\n",
    "\n",
    "    response = client.chat.completions.create(\n",
    "        model=model_name,\n",
    "        messages=input_messages,\n",
    "        temperature=temperature,\n",
    "        top_p=0.8,\n",
    "        max_tokens=2000,\n",
    "    ).choices[0].message.content\n",
    "    print(\"response\",response)\n",
    "    return response\n",
    "\n",
    "def extract_json_from_output(chatbot_output):\n",
    "    import re\n",
    "    import json\n",
    "    # Enhanced regex to match `json` or `write` after backticks\n",
    "    json_match = re.search(r'```(?:json|write)\\n(.*?)\\n```', chatbot_output, re.DOTALL)\n",
    "\n",
    "    if json_match:\n",
    "        json_string = json_match.group(1)  # Extract JSON content\n",
    "        try:\n",
    "            json_data = json.loads(json_string)  # Convert JSON string to Python dictionary\n",
    "            return json_string\n",
    "        except json.JSONDecodeError as e:\n",
    "            return {\"error\": f\"Failed to decode JSON: {e}\"}\n",
    "    else:\n",
    "        return {\"error\": \"No JSON found in the input.\"}"
   ]
  },
  {
   "cell_type": "code",
   "execution_count": 41,
   "metadata": {},
   "outputs": [],
   "source": [
    "\n",
    "def main():\n",
    "\n",
    "    client = OpenAI(\n",
    "                api_key=os.getenv(\"OpenAI_Key\"),\n",
    "            )\n",
    "    model_name = os.getenv(\"ModelName\")\n",
    "    log_message = \"\"\" 16.180.70.237 - - [26/Jan/2025:18:05:03 ] \"GET /wheelsets HTTP/1.0\" 200 2838 \"http://bestcyclingreviews.com/top_online_shops\" \"Mozilla/5.0 (iPad; CPU OS 6_0 like Mac OS X)\" [SERVICE: auth-service | LEVEL: WARNING]\n",
    "                    Error extracting JSON from output: local variable 'analysis' referenced before assignment\"\"\"\n",
    "\n",
    "    analysis = analyze_log_with_openai(client,model_name,log_message)\n",
    "    print(f\"AI Analysis:\\n{analysis}\")\n",
    "    try:\n",
    "        print(\"extract json\")\n",
    "        analysis = extract_json_from_output(analysis)\n",
    "    except Exception as e:\n",
    "        print(f\"Error extracting JSON from output: {e}\")\n",
    "        pass\n",
    "    print(f\"AI Analysis:\\n{analysis}\")\n",
    "\n",
    "    # Store log and analysis in MongoDB\n",
    "    log_entry = {\n",
    "        \"log_message\": log_message,\n",
    "        \"analysis\": analysis,\n",
    "        \"timestamp\": datetime.now()\n",
    "    }\n",
    "    logs_collection.insert_one(log_entry)\n",
    "    print(f\"Stored log in MongoDB: {log_entry}\")"
   ]
  },
  {
   "cell_type": "code",
   "execution_count": 42,
   "metadata": {},
   "outputs": [
    {
     "name": "stdout",
     "output_type": "stream",
     "text": [
      "messages [{'role': 'system', 'content': '\\n        You are an AI assistant specialized in log analysis. Your job is to:\\n        1. Classify the log level (INFO, WARNING, ERROR, DEBUG).\\n        2. Summarize the log message.\\n        3. Identify anomalies or critical issues in the log.\\n        4. Suggest potential fixes or actions if an issue is detected.\\n        5. Track the Anamoaly and report it.\\n        {\\n            \"chainofthought\":\"Think over the log message and provide the best possible solution\",\\n            \"message\": \"Analyze the log message and provide a summary, classification, and potential issues or fixes.\",\\n        }\\n        make sure to provide a json structure with the above keys and values.\\n        '}, {'role': 'user', 'content': ' 16.180.70.237 - - [26/Jan/2025:18:05:03 ] \"GET /wheelsets HTTP/1.0\" 200 2838 \"http://bestcyclingreviews.com/top_online_shops\" \"Mozilla/5.0 (iPad; CPU OS 6_0 like Mac OS X)\" [SERVICE: auth-service | LEVEL: WARNING]\\n                    Error extracting JSON from output: local variable \\'analysis\\' referenced before assignment'}]\n",
      "response ```json\n",
      "{\n",
      "    \"chainofthought\": \"The log message indicates a warning level from the auth-service. The issue seems to be related to an error in extracting JSON due to a local variable 'analysis' being referenced before it is assigned a value. This suggests a potential bug in the code where the variable 'analysis' is used before it is properly initialized.\",\n",
      "    \"message\": \"Analyze the log message and provide a summary, classification, and potential issues or fixes.\",\n",
      "    \"classification\": \"WARNING\",\n",
      "    \"summary\": \"A warning from the auth-service indicates an error in extracting JSON due to an uninitialized local variable 'analysis'.\",\n",
      "    \"anomalies\": \"The log highlights a coding error where a variable is used before being assigned a value, which can lead to runtime errors.\",\n",
      "    \"potential_fixes\": \"Review the code to ensure that the variable 'analysis' is properly initialized before it is used. This may involve setting a default value or ensuring that the variable is assigned a value in all code paths.\",\n",
      "    \"anomaly_tracking\": \"Anomaly detected: Uninitialized variable 'analysis' in auth-service. Requires code review and fix.\"\n",
      "}\n",
      "```\n",
      "AI Analysis:\n",
      "```json\n",
      "{\n",
      "    \"chainofthought\": \"The log message indicates a warning level from the auth-service. The issue seems to be related to an error in extracting JSON due to a local variable 'analysis' being referenced before it is assigned a value. This suggests a potential bug in the code where the variable 'analysis' is used before it is properly initialized.\",\n",
      "    \"message\": \"Analyze the log message and provide a summary, classification, and potential issues or fixes.\",\n",
      "    \"classification\": \"WARNING\",\n",
      "    \"summary\": \"A warning from the auth-service indicates an error in extracting JSON due to an uninitialized local variable 'analysis'.\",\n",
      "    \"anomalies\": \"The log highlights a coding error where a variable is used before being assigned a value, which can lead to runtime errors.\",\n",
      "    \"potential_fixes\": \"Review the code to ensure that the variable 'analysis' is properly initialized before it is used. This may involve setting a default value or ensuring that the variable is assigned a value in all code paths.\",\n",
      "    \"anomaly_tracking\": \"Anomaly detected: Uninitialized variable 'analysis' in auth-service. Requires code review and fix.\"\n",
      "}\n",
      "```\n",
      "extract json\n",
      "AI Analysis:\n",
      "{\n",
      "    \"chainofthought\": \"The log message indicates a warning level from the auth-service. The issue seems to be related to an error in extracting JSON due to a local variable 'analysis' being referenced before it is assigned a value. This suggests a potential bug in the code where the variable 'analysis' is used before it is properly initialized.\",\n",
      "    \"message\": \"Analyze the log message and provide a summary, classification, and potential issues or fixes.\",\n",
      "    \"classification\": \"WARNING\",\n",
      "    \"summary\": \"A warning from the auth-service indicates an error in extracting JSON due to an uninitialized local variable 'analysis'.\",\n",
      "    \"anomalies\": \"The log highlights a coding error where a variable is used before being assigned a value, which can lead to runtime errors.\",\n",
      "    \"potential_fixes\": \"Review the code to ensure that the variable 'analysis' is properly initialized before it is used. This may involve setting a default value or ensuring that the variable is assigned a value in all code paths.\",\n",
      "    \"anomaly_tracking\": \"Anomaly detected: Uninitialized variable 'analysis' in auth-service. Requires code review and fix.\"\n",
      "}\n"
     ]
    },
    {
     "ename": "NameError",
     "evalue": "name 'logs_collection' is not defined",
     "output_type": "error",
     "traceback": [
      "\u001b[0;31m---------------------------------------------------------------------------\u001b[0m",
      "\u001b[0;31mNameError\u001b[0m                                 Traceback (most recent call last)",
      "Cell \u001b[0;32mIn[42], line 1\u001b[0m\n\u001b[0;32m----> 1\u001b[0m \u001b[43mmain\u001b[49m\u001b[43m(\u001b[49m\u001b[43m)\u001b[49m\n",
      "Cell \u001b[0;32mIn[41], line 26\u001b[0m, in \u001b[0;36mmain\u001b[0;34m()\u001b[0m\n\u001b[1;32m     20\u001b[0m \u001b[38;5;66;03m# Store log and analysis in MongoDB\u001b[39;00m\n\u001b[1;32m     21\u001b[0m log_entry \u001b[38;5;241m=\u001b[39m {\n\u001b[1;32m     22\u001b[0m     \u001b[38;5;124m\"\u001b[39m\u001b[38;5;124mlog_message\u001b[39m\u001b[38;5;124m\"\u001b[39m: log_message,\n\u001b[1;32m     23\u001b[0m     \u001b[38;5;124m\"\u001b[39m\u001b[38;5;124manalysis\u001b[39m\u001b[38;5;124m\"\u001b[39m: analysis,\n\u001b[1;32m     24\u001b[0m     \u001b[38;5;124m\"\u001b[39m\u001b[38;5;124mtimestamp\u001b[39m\u001b[38;5;124m\"\u001b[39m: datetime\u001b[38;5;241m.\u001b[39mnow()\n\u001b[1;32m     25\u001b[0m }\n\u001b[0;32m---> 26\u001b[0m \u001b[43mlogs_collection\u001b[49m\u001b[38;5;241m.\u001b[39minsert_one(log_entry)\n\u001b[1;32m     27\u001b[0m \u001b[38;5;28mprint\u001b[39m(\u001b[38;5;124mf\u001b[39m\u001b[38;5;124m\"\u001b[39m\u001b[38;5;124mStored log in MongoDB: \u001b[39m\u001b[38;5;132;01m{\u001b[39;00mlog_entry\u001b[38;5;132;01m}\u001b[39;00m\u001b[38;5;124m\"\u001b[39m)\n",
      "\u001b[0;31mNameError\u001b[0m: name 'logs_collection' is not defined"
     ]
    }
   ],
   "source": [
    "main()"
   ]
  },
  {
   "cell_type": "code",
   "execution_count": null,
   "metadata": {},
   "outputs": [],
   "source": []
  }
 ],
 "metadata": {
  "kernelspec": {
   "display_name": ".logenve",
   "language": "python",
   "name": "python3"
  },
  "language_info": {
   "codemirror_mode": {
    "name": "ipython",
    "version": 3
   },
   "file_extension": ".py",
   "mimetype": "text/x-python",
   "name": "python",
   "nbconvert_exporter": "python",
   "pygments_lexer": "ipython3",
   "version": "3.10.16"
  }
 },
 "nbformat": 4,
 "nbformat_minor": 2
}
